{
 "cells": [
  {
   "cell_type": "code",
   "execution_count": null,
   "metadata": {
    "id": "caV5rXbdFWRC"
   },
   "outputs": [],
   "source": [
    "from fastai.vision.all import *\n",
    "from fastai.vision.widgets import *"
   ]
  },
  {
   "cell_type": "code",
   "execution_count": 2,
   "metadata": {},
   "outputs": [],
   "source": [
    "# !jupyter serverextension enable voila --user"
   ]
  },
  {
   "cell_type": "markdown",
   "metadata": {
    "id": "sSJ1oRauHdFu"
   },
   "source": [
    "https://www.youtube.com/watch?v=WaaANll8h18&ab_channel=TheOffice\n",
    "\n",
    "What bear is that?\n",
    "Identify Grizzley, Black, or Teddy bears.\n",
    "\n",
    "Upload a photo (it takes a few seconds), click classify & see what kind of bear it is.\n"
   ]
  },
  {
   "cell_type": "code",
   "execution_count": null,
   "metadata": {
    "id": "PXROZU_cDZz0"
   },
   "outputs": [],
   "source": [
    "path = Path()\n",
    "learn_inf = load_learner(path/'export.pkl', cpu=True)\n",
    "btn_upload = widgets.FileUpload()\n",
    "btn_run = widgets.Button(description='Classify')\n",
    "out_pl = widgets.Output()\n",
    "lbl_pred = widgets.Label('Output will go here')"
   ]
  },
  {
   "cell_type": "code",
   "execution_count": null,
   "metadata": {
    "id": "sNQuulEXJ55_"
   },
   "outputs": [],
   "source": [
    "def on_click_classify(change):\n",
    "    img = PILImage.create(btn_upload.data[-1])\n",
    "    out_pl.clear_output()\n",
    "    with out_pl: display(img.to_thumb(128,128))\n",
    "    pred,pred_idx,probs = learn_inf.predict(img)\n",
    "    lbl_pred.value = f'Prediction: {pred}; Probability: {probs[pred_idx]:.04f}'"
   ]
  },
  {
   "cell_type": "code",
   "execution_count": null,
   "metadata": {
    "id": "C3Iyvn5xJ8z0"
   },
   "outputs": [],
   "source": [
    "btn_run.on_click(on_click_classify)"
   ]
  },
  {
   "cell_type": "code",
   "execution_count": null,
   "metadata": {
    "colab": {
     "base_uri": "https://localhost:8080/",
     "height": 113,
     "referenced_widgets": [
      "fdb17152259a4079a01ba9e415f4307c",
      "9bafcc3e24494aafb531513e6a51ccfc",
      "f7e697c452d240bd821b6906ec63bb96",
      "d241e3bc7a064894a836fe6af2be0aa4",
      "c81d8f1c6153443f90ca0d8f79b2b8f5",
      "49c366cccd224ff5bb5c51dcefb1a81e",
      "8a49092d11d549eb8ae2224576e6b27f",
      "da583f0b61f44997b913601a75faa270",
      "a5638632849a4a1eb7cd53755715d0d5",
      "dacfb73ac61b4643b39dfe3f9d85aa0e",
      "bb95b0ec9c704adeb1c0ef94ad42fc73",
      "b0b08cd5a28f41cb8470ea65219c9e56",
      "f186f5cce40e45b9a4481d05dfcd4c94"
     ]
    },
    "id": "6vJFt_28J9VN",
    "outputId": "661464cc-6a7c-45fa-976b-1bbe34040ea5"
   },
   "outputs": [],
   "source": [
    "display(VBox([widgets.Label('Select your bear!'), btn_upload, btn_run, out_pl, lbl_pred]))"
   ]
  },
  {
   "cell_type": "code",
   "execution_count": null,
   "metadata": {},
   "outputs": [],
   "source": []
  },
  {
   "cell_type": "code",
   "execution_count": null,
   "metadata": {},
   "outputs": [],
   "source": []
  }
 ],
 "metadata": {
  "colab": {
   "name": "Bear Classifier.ipynb",
   "provenance": []
  },
  "kernelspec": {
   "display_name": "Python 3",
   "language": "python",
   "name": "python3"
  },
  "language_info": {
   "codemirror_mode": {
    "name": "ipython",
    "version": 3
   },
   "file_extension": ".py",
   "mimetype": "text/x-python",
   "name": "python",
   "nbconvert_exporter": "python",
   "pygments_lexer": "ipython3",
   "version": "3.8.6"
  }
 },
 "nbformat": 4,
 "nbformat_minor": 1
}
